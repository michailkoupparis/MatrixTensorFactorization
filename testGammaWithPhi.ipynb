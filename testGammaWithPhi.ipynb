{
 "cells": [
  {
   "cell_type": "markdown",
   "metadata": {},
   "source": [
    "# Matrix Factorization using Bregman Divergenses"
   ]
  },
  {
   "cell_type": "markdown",
   "metadata": {},
   "source": [
    "## Testing NMF class"
   ]
  },
  {
   "cell_type": "code",
   "execution_count": 1,
   "metadata": {},
   "outputs": [],
   "source": [
    "from sklearn.decomposition import NMF as nmfsk\n",
    "from MatrixFactorization import NMF as nmfmy\n",
    "import numpy as np\n",
    "from numpy.random import RandomState\n",
    "from sklearn.metrics import mean_squared_error\n",
    "from math import sqrt\n",
    "%matplotlib inline"
   ]
  },
  {
   "cell_type": "markdown",
   "metadata": {},
   "source": [
    "## 1. Gamma Distribution with itakura-saito as Bregman Divergenses, Testing PHI"
   ]
  },
  {
   "cell_type": "markdown",
   "metadata": {},
   "source": [
    "### 1.1 Selecting best way to represent Gamma Distribution with Non- negative Values"
   ]
  },
  {
   "cell_type": "markdown",
   "metadata": {},
   "source": [
    "Gamma Distribution from definition does no take negative values."
   ]
  },
  {
   "cell_type": "code",
   "execution_count": 2,
   "metadata": {},
   "outputs": [
    {
     "name": "stderr",
     "output_type": "stream",
     "text": [
      "/anaconda3/lib/python3.6/site-packages/scipy/stats/stats.py:1713: FutureWarning: Using a non-tuple sequence for multidimensional indexing is deprecated; use `arr[tuple(seq)]` instead of `arr[seq]`. In the future this will be interpreted as an array index, `arr[np.array(seq)]`, which will result either in an error or a different result.\n",
      "  return np.add.reduce(sorted[indexer] * weights, axis=axis) / sumval\n"
     ]
    },
    {
     "data": {
      "text/plain": [
       "<matplotlib.axes._subplots.AxesSubplot at 0x1a203e1ef0>"
      ]
     },
     "execution_count": 2,
     "metadata": {},
     "output_type": "execute_result"
    },
    {
     "data": {
      "image/png": "[encoded data removed]",
      "text/plain": [
       "<Figure size 432x288 with 1 Axes>"
      ]
     },
     "metadata": {},
     "output_type": "display_data"
    }
   ],
   "source": [
    "import numpy as np\n",
    "import seaborn as sns\n",
    "import matplotlib.pyplot as plt\n",
    "from scipy import stats\n",
    "rs = RandomState(76321654)\n",
    "shape, scale = 1, 2 \n",
    "V = rs.gamma(shape,scale ,10000)\n",
    "sns.set(color_codes=True)\n",
    "sns.distplot(V)"
   ]
  },
  {
   "cell_type": "markdown",
   "metadata": {},
   "source": [
    "### 1.2 Test NMF for Data coming from Gamma Distribution"
   ]
  },
  {
   "cell_type": "code",
   "execution_count": 3,
   "metadata": {},
   "outputs": [],
   "source": [
    "import scipy\n",
    "rs = RandomState(76321654)\n",
    "shape, scale = 1, 2\n",
    "V = rs.gamma(shape,scale ,10000).reshape(200,50)\n",
    "n = 10\n",
    "gamma = scipy.stats.distributions.gamma"
   ]
  },
  {
   "cell_type": "markdown",
   "metadata": {},
   "source": [
    "#### LOG Likelihood "
   ]
  },
  {
   "cell_type": "code",
   "execution_count": 4,
   "metadata": {},
   "outputs": [],
   "source": [
    "def neg_log_gamma(V,W,H):\n",
    "    logs_likelihoods = gamma.logpdf(V, W.dot(H))\n",
    "    neg_logs = - logs_likelihoods\n",
    "    return np.nansum(neg_logs)"
   ]
  },
  {
   "cell_type": "markdown",
   "metadata": {},
   "source": [
    "### My Implementation Gamma"
   ]
  },
  {
   "cell_type": "code",
   "execution_count": 5,
   "metadata": {},
   "outputs": [
    {
     "name": "stdout",
     "output_type": "stream",
     "text": [
      "Negative Log Likelihood Between Sklearn Results Between My Results and V :17599.840194543704\n"
     ]
    }
   ],
   "source": [
    "rs = RandomState(76321654)\n",
    "nmfM = nmfmy(n_components=n,random_state=rs, distribution = 'gamma')\n",
    "W, H = nmfM.fit_transform(V)\n",
    "diffM = neg_log_gamma(V, W ,H)\n",
    "print('Negative Log Likelihood Between Sklearn Results Between My Results and V :' + str(diffM))"
   ]
  },
  {
   "cell_type": "code",
   "execution_count": 6,
   "metadata": {},
   "outputs": [
    {
     "name": "stdout",
     "output_type": "stream",
     "text": [
      "Negative Log Likelihood Between Sklearn Results Between My Results and V :0.0\n"
     ]
    },
    {
     "name": "stderr",
     "output_type": "stream",
     "text": [
      "/Users/michailkoupparis/Desktop/MatrixTensorFactorization/MatrixFactorization/NMF.py:45: RuntimeWarning: overflow encountered in true_divide\n",
      "  W = np.multiply(W, np.divide(np.divide(W.dot(H),Vc).dot(H.T), np.ones(Vc.shape).dot(H.T) + 0.00000000001))\n",
      "/Users/michailkoupparis/Desktop/MatrixTensorFactorization/MatrixFactorization/NMF.py:44: RuntimeWarning: invalid value encountered in true_divide\n",
      "  H = np.multiply(H, np.divide(W.T.dot(np.divide(W.dot(H),Vc)), W.T.dot(np.ones(Vc.shape)) + 0.00000000001))\n",
      "/anaconda3/lib/python3.6/site-packages/scipy/stats/_distn_infrastructure.py:872: RuntimeWarning: invalid value encountered in greater\n",
      "  cond = logical_and(cond, (asarray(arg) > 0))\n"
     ]
    }
   ],
   "source": [
    "rs = RandomState(76321654)\n",
    "nmfM = nmfmy(n_components=n,random_state=rs, distribution = 'gamma', phi_update = True)\n",
    "W, H = nmfM.fit_transform(V)\n",
    "diffM = neg_log_gamma(V, W ,H)\n",
    "print('Negative Log Likelihood Between Sklearn Results Between My Results and V :' + str(diffM))"
   ]
  },
  {
   "cell_type": "markdown",
   "metadata": {},
   "source": [
    "### Combination of My and Sklearn"
   ]
  },
  {
   "cell_type": "code",
   "execution_count": 7,
   "metadata": {},
   "outputs": [
    {
     "name": "stdout",
     "output_type": "stream",
     "text": [
      "Negative Log Likelihood Between My Results and V :2.80799779364128\n"
     ]
    }
   ],
   "source": [
    "from MatrixFactorization import myNMF as nmfmy2\n",
    "rs = RandomState(76321654)\n",
    "nmfM2 = nmfmy2(n_components=n,random_state=rs, distribution = 'gaussian')\n",
    "W2 = nmfM2.fit_transform(V)\n",
    "H2 = nmfM2.components_\n",
    "\n",
    "diffM2 =mean_squared_error(V, W2.dot(H2))\n",
    "print('Negative Log Likelihood Between My Results and V :' + str(diffM2))"
   ]
  },
  {
   "cell_type": "markdown",
   "metadata": {},
   "source": [
    "### Compare the three Approaches"
   ]
  },
  {
   "cell_type": "code",
   "execution_count": 8,
   "metadata": {},
   "outputs": [
    {
     "name": "stderr",
     "output_type": "stream",
     "text": [
      "/anaconda3/lib/python3.6/site-packages/sklearn/decomposition/nmf.py:1050: ConvergenceWarning: Maximum number of iteration 200 reached. Increase it to improve convergence.\n",
      "  \" improve convergence.\" % max_iter, ConvergenceWarning)\n",
      "/anaconda3/lib/python3.6/site-packages/sklearn/decomposition/nmf.py:1050: ConvergenceWarning: Maximum number of iteration 200 reached. Increase it to improve convergence.\n",
      "  \" improve convergence.\" % max_iter, ConvergenceWarning)\n",
      "/anaconda3/lib/python3.6/site-packages/sklearn/decomposition/nmf.py:1050: ConvergenceWarning: Maximum number of iteration 200 reached. Increase it to improve convergence.\n",
      "  \" improve convergence.\" % max_iter, ConvergenceWarning)\n",
      "/anaconda3/lib/python3.6/site-packages/sklearn/decomposition/nmf.py:1050: ConvergenceWarning: Maximum number of iteration 200 reached. Increase it to improve convergence.\n",
      "  \" improve convergence.\" % max_iter, ConvergenceWarning)\n",
      "/anaconda3/lib/python3.6/site-packages/sklearn/decomposition/nmf.py:1050: ConvergenceWarning: Maximum number of iteration 200 reached. Increase it to improve convergence.\n",
      "  \" improve convergence.\" % max_iter, ConvergenceWarning)\n",
      "/anaconda3/lib/python3.6/site-packages/sklearn/decomposition/nmf.py:1050: ConvergenceWarning: Maximum number of iteration 200 reached. Increase it to improve convergence.\n",
      "  \" improve convergence.\" % max_iter, ConvergenceWarning)\n",
      "/anaconda3/lib/python3.6/site-packages/sklearn/decomposition/nmf.py:1050: ConvergenceWarning: Maximum number of iteration 200 reached. Increase it to improve convergence.\n",
      "  \" improve convergence.\" % max_iter, ConvergenceWarning)\n",
      "/anaconda3/lib/python3.6/site-packages/sklearn/decomposition/nmf.py:1050: ConvergenceWarning: Maximum number of iteration 200 reached. Increase it to improve convergence.\n",
      "  \" improve convergence.\" % max_iter, ConvergenceWarning)\n",
      "/anaconda3/lib/python3.6/site-packages/sklearn/decomposition/nmf.py:1050: ConvergenceWarning: Maximum number of iteration 200 reached. Increase it to improve convergence.\n",
      "  \" improve convergence.\" % max_iter, ConvergenceWarning)\n",
      "/anaconda3/lib/python3.6/site-packages/sklearn/decomposition/nmf.py:1050: ConvergenceWarning: Maximum number of iteration 200 reached. Increase it to improve convergence.\n",
      "  \" improve convergence.\" % max_iter, ConvergenceWarning)\n",
      "/anaconda3/lib/python3.6/site-packages/sklearn/decomposition/nmf.py:1050: ConvergenceWarning: Maximum number of iteration 200 reached. Increase it to improve convergence.\n",
      "  \" improve convergence.\" % max_iter, ConvergenceWarning)\n",
      "/anaconda3/lib/python3.6/site-packages/sklearn/decomposition/nmf.py:1050: ConvergenceWarning: Maximum number of iteration 200 reached. Increase it to improve convergence.\n",
      "  \" improve convergence.\" % max_iter, ConvergenceWarning)\n",
      "/anaconda3/lib/python3.6/site-packages/sklearn/decomposition/nmf.py:1050: ConvergenceWarning: Maximum number of iteration 200 reached. Increase it to improve convergence.\n",
      "  \" improve convergence.\" % max_iter, ConvergenceWarning)\n",
      "/anaconda3/lib/python3.6/site-packages/sklearn/decomposition/nmf.py:1050: ConvergenceWarning: Maximum number of iteration 200 reached. Increase it to improve convergence.\n",
      "  \" improve convergence.\" % max_iter, ConvergenceWarning)\n",
      "/anaconda3/lib/python3.6/site-packages/sklearn/decomposition/nmf.py:1050: ConvergenceWarning: Maximum number of iteration 200 reached. Increase it to improve convergence.\n",
      "  \" improve convergence.\" % max_iter, ConvergenceWarning)\n",
      "/anaconda3/lib/python3.6/site-packages/sklearn/decomposition/nmf.py:1050: ConvergenceWarning: Maximum number of iteration 200 reached. Increase it to improve convergence.\n",
      "  \" improve convergence.\" % max_iter, ConvergenceWarning)\n",
      "/anaconda3/lib/python3.6/site-packages/sklearn/decomposition/nmf.py:1050: ConvergenceWarning: Maximum number of iteration 200 reached. Increase it to improve convergence.\n",
      "  \" improve convergence.\" % max_iter, ConvergenceWarning)\n",
      "/anaconda3/lib/python3.6/site-packages/sklearn/decomposition/nmf.py:1050: ConvergenceWarning: Maximum number of iteration 200 reached. Increase it to improve convergence.\n",
      "  \" improve convergence.\" % max_iter, ConvergenceWarning)\n",
      "/anaconda3/lib/python3.6/site-packages/sklearn/decomposition/nmf.py:1050: ConvergenceWarning: Maximum number of iteration 200 reached. Increase it to improve convergence.\n",
      "  \" improve convergence.\" % max_iter, ConvergenceWarning)\n",
      "/anaconda3/lib/python3.6/site-packages/sklearn/decomposition/nmf.py:1050: ConvergenceWarning: Maximum number of iteration 200 reached. Increase it to improve convergence.\n",
      "  \" improve convergence.\" % max_iter, ConvergenceWarning)\n",
      "/anaconda3/lib/python3.6/site-packages/sklearn/decomposition/nmf.py:1050: ConvergenceWarning: Maximum number of iteration 200 reached. Increase it to improve convergence.\n",
      "  \" improve convergence.\" % max_iter, ConvergenceWarning)\n",
      "/anaconda3/lib/python3.6/site-packages/sklearn/decomposition/nmf.py:1050: ConvergenceWarning: Maximum number of iteration 200 reached. Increase it to improve convergence.\n",
      "  \" improve convergence.\" % max_iter, ConvergenceWarning)\n",
      "/anaconda3/lib/python3.6/site-packages/sklearn/decomposition/nmf.py:1050: ConvergenceWarning: Maximum number of iteration 200 reached. Increase it to improve convergence.\n",
      "  \" improve convergence.\" % max_iter, ConvergenceWarning)\n",
      "/anaconda3/lib/python3.6/site-packages/sklearn/decomposition/nmf.py:1050: ConvergenceWarning: Maximum number of iteration 200 reached. Increase it to improve convergence.\n",
      "  \" improve convergence.\" % max_iter, ConvergenceWarning)\n",
      "/anaconda3/lib/python3.6/site-packages/sklearn/decomposition/nmf.py:1050: ConvergenceWarning: Maximum number of iteration 200 reached. Increase it to improve convergence.\n",
      "  \" improve convergence.\" % max_iter, ConvergenceWarning)\n",
      "/anaconda3/lib/python3.6/site-packages/sklearn/decomposition/nmf.py:1050: ConvergenceWarning: Maximum number of iteration 200 reached. Increase it to improve convergence.\n",
      "  \" improve convergence.\" % max_iter, ConvergenceWarning)\n",
      "/anaconda3/lib/python3.6/site-packages/sklearn/decomposition/nmf.py:1050: ConvergenceWarning: Maximum number of iteration 200 reached. Increase it to improve convergence.\n",
      "  \" improve convergence.\" % max_iter, ConvergenceWarning)\n",
      "/anaconda3/lib/python3.6/site-packages/sklearn/decomposition/nmf.py:1050: ConvergenceWarning: Maximum number of iteration 200 reached. Increase it to improve convergence.\n",
      "  \" improve convergence.\" % max_iter, ConvergenceWarning)\n",
      "/anaconda3/lib/python3.6/site-packages/sklearn/decomposition/nmf.py:1050: ConvergenceWarning: Maximum number of iteration 200 reached. Increase it to improve convergence.\n",
      "  \" improve convergence.\" % max_iter, ConvergenceWarning)\n",
      "/anaconda3/lib/python3.6/site-packages/sklearn/decomposition/nmf.py:1050: ConvergenceWarning: Maximum number of iteration 200 reached. Increase it to improve convergence.\n",
      "  \" improve convergence.\" % max_iter, ConvergenceWarning)\n",
      "/anaconda3/lib/python3.6/site-packages/sklearn/decomposition/nmf.py:1050: ConvergenceWarning: Maximum number of iteration 200 reached. Increase it to improve convergence.\n",
      "  \" improve convergence.\" % max_iter, ConvergenceWarning)\n",
      "/anaconda3/lib/python3.6/site-packages/sklearn/decomposition/nmf.py:1050: ConvergenceWarning: Maximum number of iteration 200 reached. Increase it to improve convergence.\n",
      "  \" improve convergence.\" % max_iter, ConvergenceWarning)\n",
      "/anaconda3/lib/python3.6/site-packages/sklearn/decomposition/nmf.py:1050: ConvergenceWarning: Maximum number of iteration 200 reached. Increase it to improve convergence.\n",
      "  \" improve convergence.\" % max_iter, ConvergenceWarning)\n",
      "/anaconda3/lib/python3.6/site-packages/sklearn/decomposition/nmf.py:1050: ConvergenceWarning: Maximum number of iteration 200 reached. Increase it to improve convergence.\n",
      "  \" improve convergence.\" % max_iter, ConvergenceWarning)\n",
      "/anaconda3/lib/python3.6/site-packages/sklearn/decomposition/nmf.py:1050: ConvergenceWarning: Maximum number of iteration 200 reached. Increase it to improve convergence.\n",
      "  \" improve convergence.\" % max_iter, ConvergenceWarning)\n",
      "/anaconda3/lib/python3.6/site-packages/sklearn/decomposition/nmf.py:1050: ConvergenceWarning: Maximum number of iteration 200 reached. Increase it to improve convergence.\n",
      "  \" improve convergence.\" % max_iter, ConvergenceWarning)\n"
     ]
    },
    {
     "name": "stderr",
     "output_type": "stream",
     "text": [
      "/anaconda3/lib/python3.6/site-packages/sklearn/decomposition/nmf.py:1050: ConvergenceWarning: Maximum number of iteration 200 reached. Increase it to improve convergence.\n",
      "  \" improve convergence.\" % max_iter, ConvergenceWarning)\n",
      "/anaconda3/lib/python3.6/site-packages/sklearn/decomposition/nmf.py:1050: ConvergenceWarning: Maximum number of iteration 200 reached. Increase it to improve convergence.\n",
      "  \" improve convergence.\" % max_iter, ConvergenceWarning)\n"
     ]
    },
    {
     "ename": "KeyboardInterrupt",
     "evalue": "",
     "output_type": "error",
     "traceback": [
      "\u001b[0;31m---------------------------------------------------------------------------\u001b[0m",
      "\u001b[0;31mKeyboardInterrupt\u001b[0m                         Traceback (most recent call last)",
      "\u001b[0;32m<ipython-input-8-e5886c005a84>\u001b[0m in \u001b[0;36m<module>\u001b[0;34m\u001b[0m\n\u001b[1;32m     57\u001b[0m     \u001b[0mrs\u001b[0m \u001b[0;34m=\u001b[0m \u001b[0mRandomState\u001b[0m\u001b[0;34m(\u001b[0m\u001b[0;36m76321654\u001b[0m\u001b[0;34m)\u001b[0m\u001b[0;34m\u001b[0m\u001b[0m\n\u001b[1;32m     58\u001b[0m     \u001b[0mnmfM2\u001b[0m \u001b[0;34m=\u001b[0m \u001b[0mnmfmy2\u001b[0m\u001b[0;34m(\u001b[0m\u001b[0mn_components\u001b[0m\u001b[0;34m=\u001b[0m\u001b[0mn\u001b[0m\u001b[0;34m,\u001b[0m\u001b[0mrandom_state\u001b[0m\u001b[0;34m=\u001b[0m\u001b[0mrs\u001b[0m\u001b[0;34m,\u001b[0m \u001b[0mdistribution\u001b[0m \u001b[0;34m=\u001b[0m \u001b[0;34m'gamma'\u001b[0m\u001b[0;34m)\u001b[0m\u001b[0;34m\u001b[0m\u001b[0m\n\u001b[0;32m---> 59\u001b[0;31m     \u001b[0mW2\u001b[0m \u001b[0;34m=\u001b[0m \u001b[0mnmfM2\u001b[0m\u001b[0;34m.\u001b[0m\u001b[0mfit_transform\u001b[0m\u001b[0;34m(\u001b[0m\u001b[0mV\u001b[0m\u001b[0;34m)\u001b[0m\u001b[0;34m\u001b[0m\u001b[0m\n\u001b[0m\u001b[1;32m     60\u001b[0m     \u001b[0mH2\u001b[0m \u001b[0;34m=\u001b[0m \u001b[0mnmfM2\u001b[0m\u001b[0;34m.\u001b[0m\u001b[0mcomponents_\u001b[0m\u001b[0;34m\u001b[0m\u001b[0m\n\u001b[1;32m     61\u001b[0m \u001b[0;34m\u001b[0m\u001b[0m\n",
      "\u001b[0;32m~/Desktop/MatrixTensorFactorization/MatrixFactorization/myNMF.py\u001b[0m in \u001b[0;36mfit_transform\u001b[0;34m(self, X, y, W, H)\u001b[0m\n\u001b[1;32m    256\u001b[0m             \u001b[0ml1_ratio\u001b[0m\u001b[0;34m=\u001b[0m\u001b[0mself\u001b[0m\u001b[0;34m.\u001b[0m\u001b[0ml1_ratio\u001b[0m\u001b[0;34m,\u001b[0m \u001b[0mregularization\u001b[0m\u001b[0;34m=\u001b[0m\u001b[0;34m'both'\u001b[0m\u001b[0;34m,\u001b[0m\u001b[0;34m\u001b[0m\u001b[0m\n\u001b[1;32m    257\u001b[0m             \u001b[0mrandom_state\u001b[0m\u001b[0;34m=\u001b[0m\u001b[0mself\u001b[0m\u001b[0;34m.\u001b[0m\u001b[0mrandom_state\u001b[0m\u001b[0;34m,\u001b[0m \u001b[0mverbose\u001b[0m\u001b[0;34m=\u001b[0m\u001b[0mself\u001b[0m\u001b[0;34m.\u001b[0m\u001b[0mverbose\u001b[0m\u001b[0;34m,\u001b[0m\u001b[0;34m\u001b[0m\u001b[0m\n\u001b[0;32m--> 258\u001b[0;31m             shuffle=self.shuffle, distribution = self.distribution)\n\u001b[0m\u001b[1;32m    259\u001b[0m \u001b[0;34m\u001b[0m\u001b[0m\n\u001b[1;32m    260\u001b[0m         self.reconstruction_err_ = _beta_divergence(X, W, H, self.beta_loss,\n",
      "\u001b[0;32m~/Desktop/MatrixTensorFactorization/MatrixFactorization/myNMF.py\u001b[0m in \u001b[0;36mnon_negative_factorization\u001b[0;34m(X, W, H, n_components, init, update_H, solver, beta_loss, tol, max_iter, alpha, l1_ratio, regularization, random_state, verbose, shuffle, distribution)\u001b[0m\n\u001b[1;32m    203\u001b[0m         alpha, l1_ratio, regularization)\n\u001b[1;32m    204\u001b[0m \u001b[0;34m\u001b[0m\u001b[0m\n\u001b[0;32m--> 205\u001b[0;31m     \u001b[0mW\u001b[0m\u001b[0;34m,\u001b[0m \u001b[0mH\u001b[0m\u001b[0;34m,\u001b[0m \u001b[0mn_iter\u001b[0m \u001b[0;34m=\u001b[0m \u001b[0mupdate\u001b[0m\u001b[0;34m(\u001b[0m\u001b[0mX\u001b[0m\u001b[0;34m,\u001b[0m \u001b[0mW\u001b[0m\u001b[0;34m,\u001b[0m \u001b[0mH\u001b[0m\u001b[0;34m,\u001b[0m \u001b[0mmax_iter\u001b[0m\u001b[0;34m,\u001b[0m \u001b[0mdistribution\u001b[0m\u001b[0;34m)\u001b[0m\u001b[0;34m\u001b[0m\u001b[0m\n\u001b[0m\u001b[1;32m    206\u001b[0m \u001b[0;34m\u001b[0m\u001b[0m\n\u001b[1;32m    207\u001b[0m \u001b[0;34m\u001b[0m\u001b[0m\n",
      "\u001b[0;32m~/Desktop/MatrixTensorFactorization/MatrixFactorization/myNMF.py\u001b[0m in \u001b[0;36mupdate\u001b[0;34m(V, W, H, n_it, dist)\u001b[0m\n\u001b[1;32m     31\u001b[0m     \u001b[0;32mfor\u001b[0m \u001b[0mi\u001b[0m \u001b[0;32min\u001b[0m \u001b[0mrange\u001b[0m\u001b[0;34m(\u001b[0m\u001b[0;36m0\u001b[0m\u001b[0;34m,\u001b[0m\u001b[0mn_it\u001b[0m\u001b[0;34m)\u001b[0m\u001b[0;34m:\u001b[0m\u001b[0;34m\u001b[0m\u001b[0m\n\u001b[1;32m     32\u001b[0m \u001b[0;34m\u001b[0m\u001b[0m\n\u001b[0;32m---> 33\u001b[0;31m             \u001b[0mW\u001b[0m\u001b[0;34m,\u001b[0m \u001b[0mH\u001b[0m \u001b[0;34m=\u001b[0m \u001b[0mupdate_rule\u001b[0m\u001b[0;34m(\u001b[0m\u001b[0mV\u001b[0m\u001b[0;34m,\u001b[0m\u001b[0mW\u001b[0m\u001b[0;34m,\u001b[0m\u001b[0mH\u001b[0m\u001b[0;34m,\u001b[0m\u001b[0mdist\u001b[0m\u001b[0;34m)\u001b[0m\u001b[0;34m\u001b[0m\u001b[0m\n\u001b[0m\u001b[1;32m     34\u001b[0m             \u001b[0;32mif\u001b[0m \u001b[0mnp\u001b[0m\u001b[0;34m.\u001b[0m\u001b[0marray_equal\u001b[0m\u001b[0;34m(\u001b[0m\u001b[0mW\u001b[0m\u001b[0;34m,\u001b[0m\u001b[0mWold\u001b[0m\u001b[0;34m)\u001b[0m \u001b[0;32mand\u001b[0m \u001b[0mnp\u001b[0m\u001b[0;34m.\u001b[0m\u001b[0marray_equal\u001b[0m\u001b[0;34m(\u001b[0m\u001b[0mH\u001b[0m\u001b[0;34m,\u001b[0m\u001b[0mHold\u001b[0m\u001b[0;34m)\u001b[0m\u001b[0;34m:\u001b[0m\u001b[0;34m\u001b[0m\u001b[0m\n\u001b[1;32m     35\u001b[0m                 \u001b[0;31m#print('Update process Stabilize')\u001b[0m\u001b[0;34m\u001b[0m\u001b[0;34m\u001b[0m\u001b[0m\n",
      "\u001b[0;32m~/Desktop/MatrixTensorFactorization/MatrixFactorization/myNMF.py\u001b[0m in \u001b[0;36mupdate_rule\u001b[0;34m(V, W, H, dist)\u001b[0m\n\u001b[1;32m     20\u001b[0m     \u001b[0mb\u001b[0m \u001b[0;34m=\u001b[0m \u001b[0mdistribution_beta\u001b[0m\u001b[0;34m[\u001b[0m\u001b[0mdist\u001b[0m\u001b[0;34m]\u001b[0m\u001b[0;34m\u001b[0m\u001b[0m\n\u001b[1;32m     21\u001b[0m     \u001b[0mH\u001b[0m \u001b[0;34m=\u001b[0m \u001b[0mH\u001b[0m \u001b[0;34m*\u001b[0m \u001b[0;34m(\u001b[0m \u001b[0;34m(\u001b[0m\u001b[0mW\u001b[0m\u001b[0;34m.\u001b[0m\u001b[0mT\u001b[0m\u001b[0;34m)\u001b[0m\u001b[0;34m.\u001b[0m\u001b[0mdot\u001b[0m\u001b[0;34m(\u001b[0m \u001b[0;34m(\u001b[0m \u001b[0;34m(\u001b[0m \u001b[0mW\u001b[0m\u001b[0;34m.\u001b[0m\u001b[0mdot\u001b[0m\u001b[0;34m(\u001b[0m\u001b[0mH\u001b[0m\u001b[0;34m)\u001b[0m\u001b[0;34m**\u001b[0m\u001b[0;34m(\u001b[0m\u001b[0mb\u001b[0m\u001b[0;34m-\u001b[0m\u001b[0;36m2\u001b[0m\u001b[0;34m)\u001b[0m \u001b[0;34m)\u001b[0m \u001b[0;34m*\u001b[0m\u001b[0mV\u001b[0m\u001b[0;34m)\u001b[0m \u001b[0;34m)\u001b[0m \u001b[0;34m/\u001b[0m \u001b[0;34m(\u001b[0m \u001b[0mW\u001b[0m\u001b[0;34m.\u001b[0m\u001b[0mT\u001b[0m\u001b[0;34m.\u001b[0m\u001b[0mdot\u001b[0m\u001b[0;34m(\u001b[0m \u001b[0;34m(\u001b[0m\u001b[0mW\u001b[0m\u001b[0;34m.\u001b[0m\u001b[0mdot\u001b[0m\u001b[0;34m(\u001b[0m\u001b[0mH\u001b[0m\u001b[0;34m)\u001b[0m\u001b[0;34m)\u001b[0m\u001b[0;34m**\u001b[0m\u001b[0;34m(\u001b[0m\u001b[0mb\u001b[0m\u001b[0;34m-\u001b[0m\u001b[0;36m1\u001b[0m\u001b[0;34m)\u001b[0m \u001b[0;34m)\u001b[0m \u001b[0;34m)\u001b[0m \u001b[0;34m)\u001b[0m\u001b[0;34m\u001b[0m\u001b[0m\n\u001b[0;32m---> 22\u001b[0;31m     \u001b[0mW\u001b[0m \u001b[0;34m=\u001b[0m \u001b[0mW\u001b[0m \u001b[0;34m*\u001b[0m \u001b[0;34m(\u001b[0m \u001b[0;34m(\u001b[0m \u001b[0;34m(\u001b[0m \u001b[0;34m(\u001b[0m \u001b[0mW\u001b[0m\u001b[0;34m.\u001b[0m\u001b[0mdot\u001b[0m\u001b[0;34m(\u001b[0m\u001b[0mH\u001b[0m\u001b[0;34m)\u001b[0m\u001b[0;34m**\u001b[0m\u001b[0;34m(\u001b[0m\u001b[0mb\u001b[0m\u001b[0;34m-\u001b[0m\u001b[0;36m2\u001b[0m\u001b[0;34m)\u001b[0m \u001b[0;34m)\u001b[0m \u001b[0;34m*\u001b[0m\u001b[0mV\u001b[0m \u001b[0;34m)\u001b[0m\u001b[0;34m.\u001b[0m\u001b[0mdot\u001b[0m\u001b[0;34m(\u001b[0m\u001b[0mH\u001b[0m\u001b[0;34m.\u001b[0m\u001b[0mT\u001b[0m\u001b[0;34m)\u001b[0m \u001b[0;34m)\u001b[0m \u001b[0;34m/\u001b[0m \u001b[0;34m(\u001b[0m \u001b[0;34m(\u001b[0m \u001b[0;34m(\u001b[0m\u001b[0mW\u001b[0m\u001b[0;34m.\u001b[0m\u001b[0mdot\u001b[0m\u001b[0;34m(\u001b[0m\u001b[0mH\u001b[0m\u001b[0;34m)\u001b[0m\u001b[0;34m)\u001b[0m\u001b[0;34m**\u001b[0m\u001b[0;34m(\u001b[0m\u001b[0mb\u001b[0m\u001b[0;34m-\u001b[0m\u001b[0;36m1\u001b[0m\u001b[0;34m)\u001b[0m \u001b[0;34m)\u001b[0m\u001b[0;34m.\u001b[0m\u001b[0mdot\u001b[0m\u001b[0;34m(\u001b[0m\u001b[0mH\u001b[0m\u001b[0;34m.\u001b[0m\u001b[0mT\u001b[0m\u001b[0;34m)\u001b[0m \u001b[0;34m)\u001b[0m \u001b[0;34m)\u001b[0m\u001b[0;34m\u001b[0m\u001b[0m\n\u001b[0m\u001b[1;32m     23\u001b[0m \u001b[0;34m\u001b[0m\u001b[0m\n\u001b[1;32m     24\u001b[0m     \u001b[0;32mreturn\u001b[0m \u001b[0mW\u001b[0m\u001b[0;34m,\u001b[0m \u001b[0mH\u001b[0m\u001b[0;34m\u001b[0m\u001b[0m\n",
      "\u001b[0;31mKeyboardInterrupt\u001b[0m: "
     ]
    }
   ],
   "source": [
    "errorssk = np.zeros(50)\n",
    "errorssk2 = np.zeros(50)\n",
    "errorsmy = np.zeros(50)\n",
    "errorsmy2 = np.zeros(50)\n",
    "\n",
    "lsk = np.zeros(50)\n",
    "lsk2 = np.zeros(50)\n",
    "lmy = np.zeros(50)\n",
    "lmy2 = np.zeros(50)\n",
    "\n",
    "\n",
    "\n",
    "# Compare with normal \n",
    "errorsmyNormal = np.zeros(50)\n",
    "lmyNormal = np.zeros(50)\n",
    "\n",
    "# Compare with poisson \n",
    "errorsmyPo = np.zeros(50)\n",
    "lmyPo = np.zeros(50)\n",
    "\n",
    "\n",
    "for n in range(1, 51):\n",
    "    rs = RandomState(76321654)\n",
    "    \n",
    "    # Sklearn\n",
    "    nmfS = nmfsk(n_components=n,random_state=rs)\n",
    "    Ws = nmfS.fit_transform(V)\n",
    "    Hs = nmfS.components_\n",
    "    \n",
    "    # Sklearn with itakura-saito\n",
    "    rs = RandomState(76321654)\n",
    "    nmfS2 = nmfsk(n_components=n,random_state=rs,  solver='mu', beta_loss='itakura-saito')\n",
    "    Ws2 = nmfS2.fit_transform(V)\n",
    "    Hs2 = nmfS2.components_\n",
    "\n",
    "    \n",
    "    \n",
    "    #My \n",
    "    \n",
    "    \n",
    "    rs = RandomState(76321654)\n",
    "    nmfM = nmfmy(n_components=n,random_state=rs,  distribution = 'gamma')\n",
    "    W, H = nmfM.fit_transform(V)\n",
    "    \n",
    "    # My with Normal\n",
    "    rs = RandomState(76321654)\n",
    "    nmfMNormal = nmfmy(n_components=n,random_state=rs,  distribution = 'gaussian')\n",
    "    Wnormal, Hnormal = nmfMNormal.fit_transform(V)\n",
    "    \n",
    "    # My with Poisson\n",
    "    rs = RandomState(76321654)\n",
    "    nmfPo = nmfmy(n_components=n,random_state=rs,  distribution = 'poisson')\n",
    "    Wpo, Hpo = nmfPo.fit_transform(V)\n",
    "   \n",
    "    \n",
    "    #Combination\n",
    "    rs = RandomState(76321654)\n",
    "    nmfM2 = nmfmy2(n_components=n,random_state=rs, distribution = 'gamma')\n",
    "    W2 = nmfM2.fit_transform(V)\n",
    "    H2 = nmfM2.components_\n",
    "    \n",
    "    \n",
    "    # Mean Squared Errors\n",
    "    diffS = mean_squared_error(V, Ws.dot(Hs))\n",
    "    errorssk[n-1] = diffS\n",
    "    \n",
    "    diffS2 = mean_squared_error(V, Ws2.dot(Hs2))\n",
    "    errorssk2[n-1] = diffS2\n",
    "    \n",
    "    diffM = mean_squared_error(V, W.dot(H))\n",
    "    errorsmy[n-1] = diffM\n",
    "    \n",
    "    diffMnormal = mean_squared_error(V, Wnormal.dot(Hnormal))\n",
    "    errorsmyNormal[n-1] = diffMnormal\n",
    "    \n",
    "    diffMPo = mean_squared_error(V, Wpo.dot(Hpo))\n",
    "    errorsmyPo[n-1] = diffMPo\n",
    "    \n",
    "    diffM2 =mean_squared_error(V, W2.dot(H2))\n",
    "    errorsmy2[n-1] = diffM2\n",
    "    \n",
    "    # Average Negative log likelihood\n",
    "    diffS = neg_log_gamma(V, Ws, Hs)\n",
    "    lsk[n-1] = diffS / (V.shape[0] * V.shape[1])\n",
    "    \n",
    "    diffS2 = neg_log_gamma(V, Ws2, Hs2)\n",
    "    lsk2[n-1] = diffS2 / (V.shape[0] * V.shape[1])\n",
    "    \n",
    "    diffM = neg_log_gamma(V, W, H)\n",
    "    lmy[n-1] = diffM / (V.shape[0] * V.shape[1])\n",
    "    \n",
    "    diffMNormal = neg_log_gamma(V, Wnormal, Hnormal)\n",
    "    lmyNormal[n-1] = diffMNormal / (V.shape[0] * V.shape[1])\n",
    "    \n",
    "    diffMpo = neg_log_gamma(V, Wpo, Hpo)\n",
    "    lmyPo[n-1] = diffMpo / (V.shape[0] * V.shape[1])\n",
    "    \n",
    "    diffM2 = neg_log_gamma(V, W2 , H2)\n",
    "    lmy2[n-1] = diffM2 / (V.shape[0] * V.shape[1])\n",
    "    "
   ]
  },
  {
   "cell_type": "code",
   "execution_count": null,
   "metadata": {},
   "outputs": [],
   "source": [
    "fig_1 = plt.figure(figsize=(16, 10))\n",
    "ax_1 = fig_1.add_subplot(111)\n",
    "    \n",
    "ax_1.plot(np.arange(1, 51), \n",
    "                  errorssk, label=\"Sklearn Forb\")\n",
    "#ax_1.plot(np.arange(1, 51), \n",
    "#                  errorssk2, label=\"Sklearn IS\")\n",
    "ax_1.plot(np.arange(1, 51), \n",
    "                  errorsmyPo, label=\"Mine Poisson\")\n",
    "ax_1.plot(np.arange(1, 51), \n",
    "                  errorsmyNormal, label=\"Mine Normal\")\n",
    "#ax_1.plot(np.arange(1, 51), \n",
    "#                  errorsmy, label=\"Mine Gamma\")\n",
    "#ax_1.plot(np.arange(1, 51), \n",
    "#                  errorsmy2, label=\"Combination\")\n",
    "ax_1.legend(loc=0)\n",
    "\n",
    "ax_1.set_xlabel('N components')\n",
    "ax_1.set_ylabel('Mean Squared Error')\n",
    "fig_1.suptitle('Mean Squared Errors for Gamma Distribution')\n",
    "fig_1.savefig('MeanSquaredErrorsForNMFGamma1.pdf')"
   ]
  },
  {
   "cell_type": "code",
   "execution_count": null,
   "metadata": {},
   "outputs": [],
   "source": [
    "fig_1 = plt.figure(figsize=(16, 10))\n",
    "ax_1 = fig_1.add_subplot(111)\n",
    "    \n",
    "ax_1.plot(np.arange(1, 51), \n",
    "                  lsk, label=\"Sklearn Forb\")\n",
    "ax_1.plot(np.arange(1, 51), \n",
    "                  lsk2, label=\"Sklearn Is\")\n",
    "ax_1.plot(np.arange(1, 51), \n",
    "                  lmy, label=\"Mine Gamma\")\n",
    "ax_1.plot(np.arange(1, 51), \n",
    "                  lmyPo, label=\"Mine Poisson\")\n",
    "ax_1.plot(np.arange(1, 51), \n",
    "                  lmyNormal, label=\"Mine Normal\")\n",
    "ax_1.plot(np.arange(1, 51), \n",
    "                  lmy2, label=\"Combination\")\n",
    "ax_1.legend(loc=0)\n",
    "\n",
    "ax_1.set_xlabel('N components')\n",
    "ax_1.set_ylabel('Avg Negative Log Likelihood')\n",
    "fig_1.suptitle('Avg Negative Log Likelihood for Gamma Distribution')\n",
    "fig_1.savefig('AverageNegLogLikelihoodForNMFGamma1.pdf')"
   ]
  },
  {
   "cell_type": "markdown",
   "metadata": {},
   "source": [
    "#### Distribution compared to Sklearn with 10 components"
   ]
  },
  {
   "cell_type": "code",
   "execution_count": null,
   "metadata": {},
   "outputs": [],
   "source": [
    "rs = RandomState(76321654)\n",
    "n = 10\n",
    "nmfS = nmfsk(n_components=n,random_state=rs)\n",
    "Ws = nmfS.fit_transform(V)\n",
    "Hs = nmfS.components_\n",
    "sns.set(color_codes=True)\n",
    "sns.distplot(V[4], label ='V')\n",
    "sns.distplot(Ws.dot(Hs)[4], label='Sklearn')\n",
    "plt.legend()\n",
    "print('Original Data mean: ' + str(V.mean()) + ' std: ' + str(V.std()) )\n",
    "print('Tansformation Data : ' + str(Ws.dot(Hs).mean()) + ' std: ' + str(Ws.dot(Hs).std()) )"
   ]
  },
  {
   "cell_type": "markdown",
   "metadata": {},
   "source": [
    "#### Distribution compared to Mine with 10 components"
   ]
  },
  {
   "cell_type": "code",
   "execution_count": null,
   "metadata": {},
   "outputs": [],
   "source": [
    "n = 10\n",
    "rs = RandomState(76321654)\n",
    "nmfM = nmfmy(n_components=n,random_state=rs, distribution = 'gamma')\n",
    "W, H = nmfM.fit_transform(V)\n",
    "sns.set(color_codes=True)\n",
    "sns.distplot(V[4], label = 'V')\n",
    "sns.distplot(W.dot(H)[4], label ='Mine')\n",
    "plt.legend()\n",
    "print('Original Data mean: ' + str(V.mean()) + ' std: ' + str(V.std()) )\n",
    "print('Tansformation Data : ' + str(W.dot(H).mean()) + ' std: ' + str(W.dot(H).std()) )"
   ]
  },
  {
   "cell_type": "code",
   "execution_count": null,
   "metadata": {},
   "outputs": [],
   "source": [
    "n = 10\n",
    "rs = RandomState(76321654)\n",
    "nmfM = nmfmy(n_components=n,random_state=rs, distribution = 'poisson')\n",
    "W, H = nmfM.fit_transform(V)\n",
    "sns.set(color_codes=True)\n",
    "sns.distplot(V[4], label = 'V')\n",
    "sns.distplot(W.dot(H)[4], label ='Mine')\n",
    "plt.legend()\n",
    "print('Original Data mean: ' + str(V.mean()) + ' std: ' + str(V.std()) )\n",
    "print('Tansformation Data : ' + str(W.dot(H).mean()) + ' std: ' + str(W.dot(H).std()) )"
   ]
  },
  {
   "cell_type": "code",
   "execution_count": null,
   "metadata": {},
   "outputs": [],
   "source": [
    "n = 10\n",
    "rs = RandomState(76321654)\n",
    "nmfM = nmfmy(n_components=n,random_state=rs, distribution = 'gaussian')\n",
    "W, H = nmfM.fit_transform(V)\n",
    "sns.set(color_codes=True)\n",
    "sns.distplot(V[4], label = 'V')\n",
    "sns.distplot(W.dot(H)[4], label ='Mine')\n",
    "plt.legend()\n",
    "print('Original Data mean: ' + str(V.mean()) + ' std: ' + str(V.std()) )\n",
    "print('Tansformation Data : ' + str(W.dot(H).mean()) + ' std: ' + str(W.dot(H).std()) )"
   ]
  },
  {
   "cell_type": "markdown",
   "metadata": {},
   "source": [
    "#### Distribution compared to Combination with 10 components"
   ]
  },
  {
   "cell_type": "code",
   "execution_count": null,
   "metadata": {},
   "outputs": [],
   "source": [
    "from MatrixFactorization import myNMF as nmfmy2\n",
    "rs = RandomState(76321654)\n",
    "nmfM2 = nmfmy2(n_components=n,random_state=rs, distribution = 'gamma')\n",
    "W2 = nmfM2.fit_transform(V)\n",
    "H2 = nmfM2.components_\n",
    "sns.set(color_codes=True)\n",
    "sns.distplot(V[4],label='V')\n",
    "sns.distplot(W2.dot(H2)[4], label = 'Combination')\n",
    "plt.legend()\n",
    "print('Original Data mean: ' + str(V.mean()) + ' std: ' + str(V.std()) )\n",
    "print('Tansformation Data : ' + str(W2.dot(H2).mean()) + ' std: ' + str(W2.dot(H2).std()) )"
   ]
  }
 ],
 "metadata": {
  "kernelspec": {
   "display_name": "Python 3",
   "language": "python",
   "name": "python3"
  },
  "language_info": {
   "codemirror_mode": {
    "name": "ipython",
    "version": 3
   },
   "file_extension": ".py",
   "mimetype": "text/x-python",
   "name": "python",
   "nbconvert_exporter": "python",
   "pygments_lexer": "ipython3",
   "version": "3.6.6"
  }
 },
 "nbformat": 4,
 "nbformat_minor": 2
}
